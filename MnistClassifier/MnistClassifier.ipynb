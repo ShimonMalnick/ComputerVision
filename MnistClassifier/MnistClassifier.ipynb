{
 "cells": [
  {
   "cell_type": "markdown",
   "metadata": {
    "colab_type": "text",
    "id": "view-in-github"
   },
   "source": [
    "<a href=\"https://colab.research.google.com/github/ShimonMalnick/ComputerVision/blob/master/MnistClassifier/MnistClassifier.ipynb\" target=\"_parent\"><img src=\"https://colab.research.google.com/assets/colab-badge.svg\" alt=\"Open In Colab\"/></a>"
   ]
  },
  {
   "cell_type": "markdown",
   "metadata": {
    "colab_type": "text",
    "id": "E3o1XsplYxOJ"
   },
   "source": [
    "#Network Architecture\n",
    "1. Convolution layer of 32 filters with shape 5x5 (followed by Relu activation)\n",
    "2. 2x2 Max pooling\n",
    "3. Convolution layer of 64 filters with shape 5x5 (followed by Relu activation)\n",
    "4. 2x2 Max pooling\n",
    "5. Fully connected layer with output shape of 1024 (followed by Relu activation)\n",
    "6. Classification layer - Fully connected layer with output shape of 10 (followed by softmax activation)"
   ]
  },
  {
   "cell_type": "markdown",
   "metadata": {
    "colab_type": "text",
    "id": "ZNwe7sKPZJpL"
   },
   "source": [
    "#Load the Dataset\n",
    "First load the mnist dataset and organize it in batches of size 32"
   ]
  },
  {
   "cell_type": "code",
   "execution_count": 6,
   "metadata": {
    "colab": {},
    "colab_type": "code",
    "id": "k6xVL6iOZPm-"
   },
   "outputs": [],
   "source": [
    "from __future__ import absolute_import, division, print_function, unicode_literals\n",
    "\n",
    "import tensorflow as tf\n",
    "import matplotlib.pyplot as plt\n",
    "import numpy as np\n",
    "from tensorflow.keras.layers import Dense, Flatten, Conv2D, MaxPool2D\n",
    "from tensorflow.keras import Model\n",
    "\n",
    "mnist = tf.keras.datasets.mnist\n",
    "\n",
    "(x_train, y_train), (x_test, y_test) = mnist.load_data()\n",
    "x_train, x_test = x_train / 255.0, x_test / 255.0\n",
    "\n",
    "# Add a channels dimension\n",
    "x_train = x_train[..., tf.newaxis]\n",
    "x_test = x_test[..., tf.newaxis]\n",
    "\n",
    "train_ds = tf.data.Dataset.from_tensor_slices(\n",
    "    (x_train, y_train)).shuffle(10000).batch(32)\n",
    "test_ds = tf.data.Dataset.from_tensor_slices((x_test, y_test)).batch(32)\n"
   ]
  },
  {
   "cell_type": "markdown",
   "metadata": {
    "colab_type": "text",
    "id": "0cT4R64OZiHa"
   },
   "source": [
    "#Construct the classifier"
   ]
  },
  {
   "cell_type": "code",
   "execution_count": 7,
   "metadata": {
    "colab": {},
    "colab_type": "code",
    "id": "RroUC4W4ZpV4"
   },
   "outputs": [],
   "source": [
    "class MnistClassifier(Model):\n",
    "  def __init__(self):\n",
    "    super(MnistClassifier, self).__init__()\n",
    "    self.conv1 = Conv2D(32, 5, activation='relu')\n",
    "    self.max_pool1 = MaxPool2D(2)\n",
    "    self.conv2 = Conv2D(64, 5, activation='relu')\n",
    "    self.max_pool2 = MaxPool2D(2)\n",
    "    self.flatten = Flatten()\n",
    "    self.d1 = Dense(1024, activation='relu')\n",
    "    self.d2 = Dense(10, activation='softmax')\n",
    "\n",
    "  def call(self, x):\n",
    "    x = self.conv1(x)\n",
    "    x = self.max_pool1(x)\n",
    "    x = self.conv2(x)\n",
    "    x = self.max_pool2(x)\n",
    "    x = self.flatten(x)\n",
    "    x = self.d1(x)\n",
    "    x = self.d2(x)\n",
    "    return x\n",
    "\n",
    "# Create an instance of the model\n",
    "model = MnistClassifier()"
   ]
  },
  {
   "cell_type": "markdown",
   "metadata": {
    "colab_type": "text",
    "id": "UVKPBZ0IZz3R"
   },
   "source": [
    "#Define Loss Metric and Optimizer\n",
    "I used cross entropy as the loss function, and used the Adam optimizer for the training process"
   ]
  },
  {
   "cell_type": "code",
   "execution_count": 8,
   "metadata": {
    "colab": {},
    "colab_type": "code",
    "id": "ROixWIQhaGuI"
   },
   "outputs": [],
   "source": [
    "loss_object = tf.keras.losses.SparseCategoricalCrossentropy()\n",
    "\n",
    "optimizer = tf.keras.optimizers.Adam()\n",
    "\n",
    "train_loss = tf.keras.metrics.Mean(name='train_loss')\n",
    "train_accuracy = tf.keras.metrics.SparseCategoricalAccuracy(name='train_accuracy')\n",
    "\n",
    "test_loss = tf.keras.metrics.Mean(name='test_loss')\n",
    "test_accuracy = tf.keras.metrics.SparseCategoricalAccuracy(name='test_accuracy')\n"
   ]
  },
  {
   "cell_type": "markdown",
   "metadata": {
    "colab_type": "text",
    "id": "TB1S-ghpaUAo"
   },
   "source": [
    "#Training"
   ]
  },
  {
   "cell_type": "code",
   "execution_count": 9,
   "metadata": {
    "colab": {
     "base_uri": "https://localhost:8080/",
     "height": 224
    },
    "colab_type": "code",
    "id": "EZiEXA-SaVv3",
    "outputId": "4003f221-308b-430c-9ddd-986ffb76e3af"
   },
   "outputs": [
    {
     "name": "stdout",
     "output_type": "stream",
     "text": [
      "WARNING:tensorflow:Layer mnist_classifier is casting an input tensor from dtype float64 to the layer's dtype of float32, which is new behavior in TensorFlow 2.  The layer has dtype float32 because it's dtype defaults to floatx.\n",
      "\n",
      "If you intended to run this layer in float32, you can safely ignore this warning. If in doubt, this warning is likely only an issue if you are porting a TensorFlow 1.X model to TensorFlow 2.\n",
      "\n",
      "To change all layers to have dtype float64 by default, call `tf.keras.backend.set_floatx('float64')`. To change just this layer, pass dtype='float64' to the layer constructor. If you are the author of this layer, you can disable autocasting by passing autocast=False to the base Layer constructor.\n",
      "\n",
      "Epoch 1, Loss: 0.09665427356958389, Accuracy: 97.00833892822266, Test Loss: 0.05286412313580513, Test Accuracy: 98.336669921875\n",
      "Epoch 2, Loss: 0.03715238347649574, Accuracy: 98.84666442871094, Test Loss: 0.04045736789703369, Test Accuracy: 98.78666687011719\n",
      "Epoch 3, Loss: 0.02549293264746666, Accuracy: 99.23999786376953, Test Loss: 0.031789809465408325, Test Accuracy: 99.06999969482422\n",
      "Epoch 4, Loss: 0.018653560429811478, Accuracy: 99.41999816894531, Test Loss: 0.03155580163002014, Test Accuracy: 99.10333251953125\n",
      "Epoch 5, Loss: 0.015478990972042084, Accuracy: 99.52166748046875, Test Loss: 0.031667571514844894, Test Accuracy: 99.08999633789062\n"
     ]
    }
   ],
   "source": [
    "@tf.function\n",
    "def train_step(images, labels):\n",
    "  with tf.GradientTape() as tape:\n",
    "    predictions = model(images)\n",
    "    loss = loss_object(labels, predictions)\n",
    "  gradients = tape.gradient(loss, model.trainable_variables)\n",
    "  optimizer.apply_gradients(zip(gradients, model.trainable_variables))\n",
    "\n",
    "  train_loss(loss)\n",
    "  train_accuracy(labels, predictions)\n",
    "\n",
    "\n",
    "\n",
    "@tf.function\n",
    "def test_step(images, labels):\n",
    "  predictions = model(images)\n",
    "  t_loss = loss_object(labels, predictions)\n",
    "\n",
    "  test_loss(t_loss)\n",
    "  test_accuracy(labels, predictions)\n",
    "\n",
    "EPOCHS = 5\n",
    "train_err = []\n",
    "test_err = []\n",
    "for epoch in range(EPOCHS):\n",
    "  i = 1\n",
    "  for images, labels in train_ds:\n",
    "    train_step(images, labels)\n",
    "    if i % 500 == 0:\n",
    "      for test_images, test_labels in test_ds:\n",
    "        test_step(test_images, test_labels)\n",
    "      train_err += [train_accuracy.result()*100]\n",
    "      test_err += [test_accuracy.result()*100]\n",
    "    i += 1\n",
    "\n",
    "  template = 'Epoch {}, Loss: {}, Accuracy: {}, Test Loss: {}, Test Accuracy: {}'\n",
    "  print(template.format(epoch+1,\n",
    "                        train_loss.result(),\n",
    "                        train_accuracy.result()*100,\n",
    "                        test_loss.result(),\n",
    "                        test_accuracy.result()*100))\n",
    "\n",
    "  # Reset the metrics for the next epoch\n",
    "  train_loss.reset_states()\n",
    "  train_accuracy.reset_states()\n",
    "  test_loss.reset_states()\n",
    "  test_accuracy.reset_states()"
   ]
  },
  {
   "cell_type": "markdown",
   "metadata": {
    "colab_type": "text",
    "id": "rZmPGUPhab48"
   },
   "source": [
    "#Plotting the Accuracy"
   ]
  },
  {
   "cell_type": "code",
   "execution_count": 11,
   "metadata": {
    "colab": {
     "base_uri": "https://localhost:8080/",
     "height": 295
    },
    "colab_type": "code",
    "id": "5l-uM4t9H6bn",
    "outputId": "e9805eb5-8f1c-4ee6-c115-af4eb1f75a27"
   },
   "outputs": [
    {
     "data": {
      "image/png": "[encoded data removed]",
      "text/plain": [
       "<Figure size 432x288 with 1 Axes>"
      ]
     },
     "metadata": {
      "needs_background": "light",
      "tags": []
     },
     "output_type": "display_data"
    }
   ],
   "source": [
    "plt.figure()\n",
    "plt.plot(np.arange(len(train_err)) * 500, train_err, label=\"train\")\n",
    "plt.plot(np.arange(len(test_err)) * 500, test_err, label=\"test\")\n",
    "plt.legend()\n",
    "plt.xlabel('Number of Iterations')\n",
    "plt.ylabel('Accuracy')\n",
    "plt.title('Accuracy of testset and trainset as a function of batch iterations')\n",
    "plt.show()"
   ]
  }
 ],
 "metadata": {
  "accelerator": "GPU",
  "colab": {
   "include_colab_link": true,
   "name": "MnistClassifier-NN-ex1.ipynb",
   "provenance": []
  },
  "kernelspec": {
   "display_name": "Python 3",
   "language": "python",
   "name": "python3"
  },
  "language_info": {
   "codemirror_mode": {
    "name": "ipython",
    "version": 3
   },
   "file_extension": ".py",
   "mimetype": "text/x-python",
   "name": "python",
   "nbconvert_exporter": "python",
   "pygments_lexer": "ipython3",
   "version": "3.6.2"
  }
 },
 "nbformat": 4,
 "nbformat_minor": 1
}
